{
 "cells": [
  {
   "cell_type": "markdown",
   "metadata": {},
   "source": [
    "### Chat History with Memory 🧠\n",
    "\n",
    "<img src=\"./Image/ChatHistory.png\" width=\"700\" height=\"400\" style=\"display: block; margin: auto;\">"
   ]
  },
  {
   "cell_type": "markdown",
   "metadata": {},
   "source": [
    "### Load ENV file"
   ]
  },
  {
   "cell_type": "code",
   "execution_count": null,
   "metadata": {},
   "outputs": [],
   "source": [
    "from dotenv import load_dotenv\n",
    "\n",
    "load = load_dotenv(\"./../.env\")\n",
    "\n",
    "# print(os.getenv(\"LANGSMITH_API_KEY\"))"
   ]
  },
  {
   "cell_type": "markdown",
   "metadata": {},
   "source": [
    "#### Create LLM object"
   ]
  },
  {
   "cell_type": "code",
   "execution_count": null,
   "metadata": {},
   "outputs": [],
   "source": [
    "from langchain_ollama import ChatOllama\n",
    "\n",
    "llm = ChatOllama(\n",
    "    base_url=\"http://localhost:11434\", model=\"qwen2.5:latest\", temperature=0.5, max_tokens=250\n",
    ")"
   ]
  },
  {
   "cell_type": "code",
   "execution_count": null,
   "metadata": {},
   "outputs": [],
   "source": [
    "%pip install langchain_community"
   ]
  },
  {
   "cell_type": "markdown",
   "metadata": {},
   "source": [
    "### Message history with ChatMessageHistory"
   ]
  },
  {
   "cell_type": "code",
   "execution_count": null,
   "metadata": {},
   "outputs": [],
   "source": [
    "from langchain_community.chat_message_histories import ChatMessageHistory\n",
    "from langchain_core.chat_history import BaseChatMessageHistory\n",
    "from langchain_core.output_parsers import StrOutputParser\n",
    "from langchain_core.prompts import ChatPromptTemplate\n",
    "from langchain_core.runnables import chain\n",
    "from langchain_core.runnables.history import RunnableWithMessageHistory"
   ]
  },
  {
   "cell_type": "code",
   "execution_count": null,
   "metadata": {},
   "outputs": [],
   "source": [
    "template = ChatPromptTemplate.from_messages([(\"placeholder\", \"{history}\"), (\"human\", \"{prompt}\")])\n",
    "\n",
    "chain = template | llm | StrOutputParser()\n",
    "\n",
    "store = {}\n",
    "\n",
    "\n",
    "def get_session_history(session_id: str) -> BaseChatMessageHistory:\n",
    "    if session_id not in store:\n",
    "        store[session_id] = ChatMessageHistory()\n",
    "    return store[session_id]\n",
    "\n",
    "\n",
    "history = RunnableWithMessageHistory(\n",
    "    chain, get_session_history, input_messages_key=\"prompt\", history_messages_key=\"history\"\n",
    ")\n",
    "\n",
    "session_id = \"Karthik\"\n",
    "\n",
    "get_session_history(session_id).clear()\n",
    "\n",
    "response1 = history.invoke(\n",
    "    {\"prompt\": \"What is the distance between earth and sun?\"},\n",
    "    config={\"configurable\": {\"session_id\": session_id}},\n",
    ")\n",
    "\n",
    "response2 = history.invoke(\n",
    "    {\"prompt\": \"How about from moon\"}, config={\"configurable\": {\"session_id\": session_id}}\n",
    ")\n",
    "\n",
    "print(response1)\n",
    "print(\"\\n\\n\")\n",
    "print(response2)"
   ]
  },
  {
   "cell_type": "markdown",
   "metadata": {},
   "source": [
    "### ChatMessage History with SqlChatMessageHistory"
   ]
  },
  {
   "cell_type": "code",
   "execution_count": null,
   "metadata": {},
   "outputs": [],
   "source": [
    "from langchain_community.chat_message_histories import SQLChatMessageHistory\n",
    "\n",
    "\n",
    "def get_session_history(session_id):\n",
    "    return SQLChatMessageHistory(\n",
    "        session_id=session_id, connection_string=\"sqlite:///chathistory.db\"\n",
    "    )\n",
    "\n",
    "\n",
    "template = ChatPromptTemplate.from_messages([(\"placeholder\", \"{history}\"), (\"human\", \"{prompt}\")])\n",
    "\n",
    "chain = template | llm | StrOutputParser()\n",
    "\n",
    "history = RunnableWithMessageHistory(\n",
    "    chain, get_session_history, input_messages_key=\"prompt\", history_messages_key=\"history\"\n",
    ")\n",
    "\n",
    "\n",
    "session_id = \"Karthik\"\n",
    "\n",
    "get_session_history(session_id).clear()\n",
    "\n",
    "response1 = history.invoke(\n",
    "    {\"prompt\": \"What is the distance between earth and sun?\"},\n",
    "    config={\"configurable\": {\"session_id\": session_id}},\n",
    ")\n",
    "\n",
    "response2 = history.invoke(\n",
    "    {\"prompt\": \"How about from moon\"}, config={\"configurable\": {\"session_id\": session_id}}\n",
    ")\n",
    "\n",
    "print(response1)\n",
    "print(\"\\n\\n\")\n",
    "print(response2)"
   ]
  }
 ],
 "metadata": {
  "kernelspec": {
   "display_name": "Python 3",
   "language": "python",
   "name": "python3"
  },
  "language_info": {
   "codemirror_mode": {
    "name": "ipython",
    "version": 3
   },
   "file_extension": ".py",
   "mimetype": "text/x-python",
   "name": "python",
   "nbconvert_exporter": "python",
   "pygments_lexer": "ipython3",
   "version": "3.13.1"
  }
 },
 "nbformat": 4,
 "nbformat_minor": 2
}
