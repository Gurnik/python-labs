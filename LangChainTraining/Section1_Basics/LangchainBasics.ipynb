{
 "cells": [
  {
   "cell_type": "markdown",
   "id": "0",
   "metadata": {},
   "source": [
    "## Installation required dependencies"
   ]
  },
  {
   "cell_type": "code",
   "execution_count": null,
   "id": "1",
   "metadata": {},
   "outputs": [],
   "source": [
    "%pip install langchain\n",
    "%pip install langchain-ollama\n",
    "%pip install python-dotenv"
   ]
  },
  {
   "cell_type": "markdown",
   "id": "2",
   "metadata": {},
   "source": [
    "### Intracting with LLM\n",
    "\n",
    "<img src=\"./Images/LocalLLM.png\" width=\"800\" height=\"400\" style=\"display: block; margin: auto;\">"
   ]
  },
  {
   "cell_type": "code",
   "execution_count": null,
   "id": "3",
   "metadata": {},
   "outputs": [],
   "source": [
    "from langchain_ollama import ChatOllama\n",
    "\n",
    "llm = ChatOllama(\n",
    "    base_url=\"http://localhost:11434\",\n",
    "    model=\"qwen2.5:latest\",\n",
    "    temperature=0.5,\n",
    "    max_tokens=250,\n",
    ")\n",
    "\n",
    "response = llm.invoke(\"Hello, how are you doing today?\")\n",
    "print(response)"
   ]
  },
  {
   "cell_type": "markdown",
   "id": "4",
   "metadata": {},
   "source": [
    "### Load ENV file will connect LangSmith\n",
    "\n",
    "<img src=\"./Images/LocalLLMWithLangSmith.png\" width=\"800\" height=\"400\" style=\"display: block; margin: auto;\">"
   ]
  },
  {
   "cell_type": "code",
   "execution_count": null,
   "id": "5",
   "metadata": {},
   "outputs": [],
   "source": [
    "from dotenv import load_dotenv\n",
    "\n",
    "load = load_dotenv(\"./../.env\")\n",
    "\n",
    "# print(os.getenv(\"LANGSMITH_API_KEY\"))\n",
    "# print(os.getenv(\"LANGSMITH_PROJECT\"))"
   ]
  },
  {
   "cell_type": "markdown",
   "id": "6",
   "metadata": {},
   "source": [
    "## Prompt & Chat Template"
   ]
  },
  {
   "cell_type": "code",
   "execution_count": null,
   "id": "7",
   "metadata": {},
   "outputs": [],
   "source": [
    "from langchain_core.prompts import PromptTemplate\n",
    "\n",
    "prompt_template = PromptTemplate.from_template(\"What is the advantage of running the LLM in {env}\")\n",
    "\n",
    "prompt = prompt_template.invoke({\"env\": \"local machine\"})\n",
    "\n",
    "print(prompt)\n",
    "\n",
    "content = llm.invoke(prompt).content"
   ]
  },
  {
   "cell_type": "code",
   "execution_count": null,
   "id": "8",
   "metadata": {},
   "outputs": [],
   "source": [
    "print(content)"
   ]
  },
  {
   "cell_type": "markdown",
   "id": "9",
   "metadata": {},
   "source": [
    "#### Chat Prompt Template"
   ]
  },
  {
   "cell_type": "code",
   "execution_count": null,
   "id": "10",
   "metadata": {},
   "outputs": [],
   "source": [
    "from langchain_core.prompts import (\n",
    "    ChatPromptTemplate,\n",
    "    HumanMessagePromptTemplate,\n",
    "    SystemMessagePromptTemplate,\n",
    ")\n",
    "\n",
    "systemMessage = SystemMessagePromptTemplate.from_template(\"You are an LLM expert\")\n",
    "humanMessage = HumanMessagePromptTemplate.from_template(\n",
    "    \"What is the advantage of running AI Models in {env}\"\n",
    ")\n",
    "\n",
    "prompt_template = ChatPromptTemplate([systemMessage, humanMessage])\n",
    "\n",
    "# 1 way of doing it\n",
    "# prompt_template = ChatPromptTemplate([\n",
    "#     (\"system\", \"You are an LLM expert\"),\n",
    "#     (\"user\", \"What is the advantage of running AI Models in {env}\")\n",
    "# ])\n",
    "\n",
    "prompt_template\n",
    "\n",
    "prompt = prompt_template.invoke({\"env\": \"local machine\"})\n",
    "\n",
    "# print(prompt)\n",
    "\n",
    "content = llm.invoke(prompt).content\n",
    "\n",
    "print(content)"
   ]
  },
  {
   "cell_type": "markdown",
   "id": "11",
   "metadata": {},
   "source": [
    "#### MessagePlaceHolder"
   ]
  },
  {
   "cell_type": "code",
   "execution_count": null,
   "id": "12",
   "metadata": {},
   "outputs": [],
   "source": [
    "from langchain_core.messages import HumanMessage\n",
    "from langchain_core.prompts import (\n",
    "    ChatPromptTemplate,\n",
    ")\n",
    "\n",
    "# 1 way of doing it\n",
    "prompt_template = ChatPromptTemplate(\n",
    "    [(\"system\", \"You are an LLM expert\"), (\"placeholder\", \"{msg}\")]\n",
    ")\n",
    "\n",
    "prompt = prompt_template.invoke(\n",
    "    {\"msg\": [HumanMessage(\"What is the advantage of running LLM in local machine\")]}\n",
    ")\n",
    "\n",
    "for str in llm.stream(prompt):\n",
    "    print(str.content)"
   ]
  }
 ],
 "metadata": {
  "kernelspec": {
   "display_name": "Python 3",
   "language": "python",
   "name": "python3"
  },
  "language_info": {
   "codemirror_mode": {
    "name": "ipython",
    "version": 3
   },
   "file_extension": ".py",
   "mimetype": "text/x-python",
   "name": "python",
   "nbconvert_exporter": "python",
   "pygments_lexer": "ipython3",
   "version": "3.13.1"
  }
 },
 "nbformat": 4,
 "nbformat_minor": 5
}
